{
 "cells": [
  {
   "cell_type": "code",
   "execution_count": 1,
   "metadata": {
    "collapsed": true
   },
   "outputs": [],
   "source": [
    "#Importing Libraries\n",
    "import numpy as np\n",
    "import pandas as pd\n",
    "import pickle\n",
    "from sklearn.cross_validation import train_test_split\n",
    "from sklearn.preprocessing import StandardScaler\n",
    "from sklearn.ensemble import RandomForestClassifier\n",
    "from sklearn.metrics import confusion_matrix\n",
    "from sklearn.feature_extraction.text import TfidfVectorizer\n",
    "from sklearn.metrics import accuracy_score\n",
    "from pyspark.sql import SparkSession\n",
    "from pyspark.sql.functions import udf\n",
    "from pyspark.sql.types import StringType\n",
    "from functools import reduce\n",
    "from pyspark.sql.types import ArrayType, StringType\n",
    "import re"
   ]
  },
  {
   "cell_type": "code",
   "execution_count": 2,
   "metadata": {
    "collapsed": false
   },
   "outputs": [
    {
     "data": {
      "text/html": [
       "<style>pre { white-space: pre !important; }</style>"
      ],
      "text/plain": [
       "<IPython.core.display.HTML object>"
      ]
     },
     "metadata": {},
     "output_type": "display_data"
    }
   ],
   "source": [
    "from IPython.core.display import HTML,display\n",
    "display(HTML(\"<style>pre { white-space: pre !important; }</style>\"))"
   ]
  },
  {
   "cell_type": "code",
   "execution_count": 4,
   "metadata": {
    "collapsed": false
   },
   "outputs": [
    {
     "name": "stderr",
     "output_type": "stream",
     "text": [
      "/opt/anaconda/anaconda2/lib/python2.7/site-packages/ipykernel/__main__.py:37: SettingWithCopyWarning: \n",
      "A value is trying to be set on a copy of a slice from a DataFrame.\n",
      "Try using .loc[row_indexer,col_indexer] = value instead\n",
      "\n",
      "See the caveats in the documentation: http://pandas.pydata.org/pandas-docs/stable/indexing.html#indexing-view-versus-copy\n",
      "/opt/anaconda/anaconda2/lib/python2.7/site-packages/ipykernel/__main__.py:41: SettingWithCopyWarning: \n",
      "A value is trying to be set on a copy of a slice from a DataFrame.\n",
      "Try using .loc[row_indexer,col_indexer] = value instead\n",
      "\n",
      "See the caveats in the documentation: http://pandas.pydata.org/pandas-docs/stable/indexing.html#indexing-view-versus-copy\n"
     ]
    },
    {
     "name": "stdout",
     "output_type": "stream",
     "text": [
      "Accuracy for Category Level 1: 1.00\n",
      "Accuracy for Category Level 2: 0.99\n"
     ]
    }
   ],
   "source": [
    "#automated Model Training\n",
    "#Importing Libraries\n",
    "import numpy as np\n",
    "import pandas as pd\n",
    "import pickle\n",
    "from sklearn.cross_validation import train_test_split\n",
    "from sklearn.preprocessing import StandardScaler\n",
    "from sklearn.ensemble import RandomForestClassifier\n",
    "from sklearn.metrics import confusion_matrix\n",
    "from sklearn.feature_extraction.text import TfidfVectorizer\n",
    "from sklearn.metrics import accuracy_score\n",
    "\n",
    "df = pd.read_excel(\"PhonePe_Sherloc_Categories_updated.xlsx\")  # Replace with the path to your dataset\n",
    "df.columns\n",
    "df2 = df[['payer_name','payer_vpa','payee_account_type','payee_name','payee_vpa','payer_account_type', 'Category1','Category2']]\n",
    "\n",
    "def custom_tokenizer(text):\n",
    "    # split the text and value using regular expression\n",
    "    import re\n",
    "    pattern = re.compile(r'[a-zA-Z]+\\d+')\n",
    "    text_and_value = pattern.findall(text)\n",
    "    return text_and_value\n",
    "# Apply TF-Vectorization on data\n",
    "tfidf_payer_name = TfidfVectorizer()\n",
    "tfidf_matrix_payer_name = tfidf_payer_name.fit_transform(df2['payer_name'].astype(str))\n",
    "\n",
    "tfidf_payee_name = TfidfVectorizer()\n",
    "tfidf_matrix_payee_name = tfidf_payee_name.fit_transform(df2['payee_name'].astype(str))\n",
    "\n",
    "tfidf_payee_account_type = TfidfVectorizer()\n",
    "tfidf_matrix_payee_account_type = tfidf_payee_account_type.fit_transform(df2['payee_account_type'].astype(str))\n",
    "\n",
    "tfidf_payer_account_type = TfidfVectorizer()\n",
    "tfidf_matrix_payer_account_type = tfidf_payer_account_type.fit_transform(df2['payer_account_type'].astype(str))\n",
    "\n",
    "tfidf_payer_vpa = TfidfVectorizer(tokenizer=custom_tokenizer)\n",
    "df2['payer_vpa'] = df2['payer_vpa'].astype(str)\n",
    "tfidf_matrix_payer_vpa = tfidf_payer_vpa.fit_transform(df2['payer_vpa'])\n",
    "\n",
    "tfidf_payee_vpa = TfidfVectorizer(tokenizer=custom_tokenizer)\n",
    "df2['payee_vpa'] = df2['payee_vpa'].astype(str)\n",
    "tfidf_matrix_payee_vpa = tfidf_payee_vpa.fit_transform(df2['payee_vpa'])\n",
    "\n",
    "\n",
    "tfidf_matrix = pd.concat([pd.DataFrame(tfidf_matrix_payer_name.toarray()),\n",
    "                          pd.DataFrame(tfidf_matrix_payee_name.toarray()),\n",
    "                          pd.DataFrame(tfidf_matrix_payee_account_type.toarray()),\n",
    "                          pd.DataFrame(tfidf_matrix_payer_account_type.toarray()),\n",
    "                          pd.DataFrame(tfidf_matrix_payer_vpa.toarray()),\n",
    "                          pd.DataFrame(tfidf_matrix_payee_vpa.toarray())], axis=1)\n",
    "X_train, X_test, y_cat1_train, y_cat1_test, y_cat2_train, y_cat2_test = train_test_split(tfidf_matrix, df2['Category1'], df2['Category2'], test_size=0.2, random_state=42)\n",
    "clf_cat1 = RandomForestClassifier()\n",
    "\n",
    "clf_cat1.fit(X_train, y_cat1_train)\n",
    "\n",
    "clf_cat2 = RandomForestClassifier()\n",
    "clf_cat2.fit(X_train, y_cat2_train) # Make predictions for each target variable\n",
    "\n",
    "predictions_cat1 = clf_cat1.predict(X_test)\n",
    "predictions_cat2 = clf_cat2.predict(X_test)\n",
    "\n",
    "accuracy_cat1 = accuracy_score(y_cat1_test, predictions_cat1)\n",
    "print \"Accuracy for Category Level 1: %.2f\" % accuracy_cat1 \n",
    "\n",
    "\n",
    "# Calculate accuracy for Category Level 2 predictions\n",
    "accuracy_cat2 = accuracy_score(y_cat2_test, predictions_cat2)\n",
    "print \"Accuracy for Category Level 2: %.2f\" % accuracy_cat2\n",
    "\n",
    "df2.head(2)\n",
    "\n",
    "# After training the Random Forest classifiers:\n",
    "with open(\"clf_cat1.pkl\", \"wb\") as f:\n",
    "    pickle.dump(clf_cat1, f)\n",
    "\n",
    "with open(\"clf_cat2.pkl\", \"wb\") as f:\n",
    "    pickle.dump(clf_cat2, f)\n",
    "\n",
    "# After fitting the Tfidf vectorizers:\n",
    "with open(\"tfidf_payer_name.pkl\", \"wb\") as f:\n",
    "    pickle.dump(tfidf_payer_name, f)\n",
    "\n",
    "with open(\"tfidf_payee_name.pkl\", \"wb\") as f:\n",
    "    pickle.dump(tfidf_payee_name, f)\n",
    "\n",
    "with open(\"tfidf_payee_account_type.pkl\", \"wb\") as f:\n",
    "    pickle.dump(tfidf_payee_account_type, f)\n",
    "\n",
    "with open(\"tfidf_payer_account_type.pkl\", \"wb\") as f:\n",
    "    pickle.dump(tfidf_payer_account_type, f)\n",
    "\n",
    "with open(\"tfidf_payer_vpa.pkl\", \"wb\") as f:\n",
    "    pickle.dump(tfidf_payer_vpa, f)\n",
    "\n",
    "with open(\"tfidf_payee_vpa.pkl\", \"wb\") as f:\n",
    "    pickle.dump(tfidf_payee_vpa, f)"
   ]
  },
  {
   "cell_type": "code",
   "execution_count": null,
   "metadata": {
    "collapsed": true
   },
   "outputs": [],
   "source": []
  }
 ],
 "metadata": {
  "kernelspec": {
   "display_name": "Python [Root]",
   "language": "python",
   "name": "Python [Root]"
  },
  "language_info": {
   "codemirror_mode": {
    "name": "ipython",
    "version": 2
   },
   "file_extension": ".py",
   "mimetype": "text/x-python",
   "name": "python",
   "nbconvert_exporter": "python",
   "pygments_lexer": "ipython2",
   "version": "2.7.12"
  }
 },
 "nbformat": 4,
 "nbformat_minor": 0
}
